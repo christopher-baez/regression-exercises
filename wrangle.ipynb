{
 "cells": [
  {
   "cell_type": "code",
   "execution_count": 17,
   "outputs": [],
   "source": [
    "import numpy as np\n",
    "import pandas as pd\n",
    "\n",
    "import seaborn as sns\n",
    "import matplotlib.pyplot as plt\n",
    "\n",
    "import env"
   ],
   "metadata": {
    "collapsed": false,
    "ExecuteTime": {
     "end_time": "2023-12-12T22:44:59.984371Z",
     "start_time": "2023-12-12T22:44:59.979286Z"
    }
   },
   "id": "280f2d4d9431d302"
  },
  {
   "cell_type": "code",
   "execution_count": 2,
   "id": "initial_id",
   "metadata": {
    "collapsed": true,
    "ExecuteTime": {
     "end_time": "2023-12-12T22:39:32.652323Z",
     "start_time": "2023-12-12T22:39:32.646981Z"
    }
   },
   "outputs": [],
   "source": [
    "query = \"select bedroomcnt, bathroomcnt, calculatedfinishedsquarefeet, taxvaluedollarcnt, yearbuilt, taxamount, fips from properties_2017 left join propertylandusetype using (propertylandusetypeid) where propertylandusedesc = 'Single Family Residential'\""
   ]
  },
  {
   "cell_type": "code",
   "execution_count": 3,
   "outputs": [],
   "source": [
    "url = env.get_db_url('zillow')"
   ],
   "metadata": {
    "collapsed": false,
    "ExecuteTime": {
     "end_time": "2023-12-12T22:39:32.653153Z",
     "start_time": "2023-12-12T22:39:32.649376Z"
    }
   },
   "id": "5922911f5af3fc5e"
  },
  {
   "cell_type": "code",
   "execution_count": 4,
   "outputs": [],
   "source": [
    "df = pd.read_sql(query, url)"
   ],
   "metadata": {
    "collapsed": false,
    "ExecuteTime": {
     "end_time": "2023-12-12T22:39:53.088541Z",
     "start_time": "2023-12-12T22:39:32.652436Z"
    }
   },
   "id": "2375014f8c575646"
  },
  {
   "cell_type": "code",
   "execution_count": 5,
   "outputs": [
    {
     "data": {
      "text/plain": "(2152863, 7)"
     },
     "execution_count": 5,
     "metadata": {},
     "output_type": "execute_result"
    }
   ],
   "source": [
    "df.shape"
   ],
   "metadata": {
    "collapsed": false,
    "ExecuteTime": {
     "end_time": "2023-12-12T22:39:53.090970Z",
     "start_time": "2023-12-12T22:39:53.087845Z"
    }
   },
   "id": "d601d4e11218b3c9"
  },
  {
   "cell_type": "code",
   "execution_count": 6,
   "outputs": [
    {
     "data": {
      "text/plain": "bedroomcnt                        11\nbathroomcnt                       11\ncalculatedfinishedsquarefeet    8484\ntaxvaluedollarcnt                493\nyearbuilt                       9337\ntaxamount                       4442\nfips                               0\ndtype: int64"
     },
     "execution_count": 6,
     "metadata": {},
     "output_type": "execute_result"
    }
   ],
   "source": [
    "df.isna().sum()"
   ],
   "metadata": {
    "collapsed": false,
    "ExecuteTime": {
     "end_time": "2023-12-12T22:39:53.160835Z",
     "start_time": "2023-12-12T22:39:53.089727Z"
    }
   },
   "id": "e842ff8720195f6c"
  },
  {
   "cell_type": "code",
   "execution_count": 7,
   "outputs": [],
   "source": [
    "# dropping na for all since they most na is less than 1%\n",
    "df = df.dropna()"
   ],
   "metadata": {
    "collapsed": false,
    "ExecuteTime": {
     "end_time": "2023-12-12T22:39:53.188845Z",
     "start_time": "2023-12-12T22:39:53.114400Z"
    }
   },
   "id": "7bd814186d916bc9"
  },
  {
   "cell_type": "code",
   "execution_count": 8,
   "outputs": [
    {
     "data": {
      "text/plain": "bedroomcnt                      float64\nbathroomcnt                     float64\ncalculatedfinishedsquarefeet    float64\ntaxvaluedollarcnt               float64\nyearbuilt                       float64\ntaxamount                       float64\nfips                            float64\ndtype: object"
     },
     "execution_count": 8,
     "metadata": {},
     "output_type": "execute_result"
    }
   ],
   "source": [
    "df.dtypes"
   ],
   "metadata": {
    "collapsed": false,
    "ExecuteTime": {
     "end_time": "2023-12-12T22:39:53.189332Z",
     "start_time": "2023-12-12T22:39:53.178606Z"
    }
   },
   "id": "ff28b72c643d1ae1"
  },
  {
   "cell_type": "code",
   "execution_count": 9,
   "outputs": [
    {
     "data": {
      "text/plain": "    bedroomcnt  bathroomcnt  calculatedfinishedsquarefeet  taxvaluedollarcnt  \\\n4          4.0          2.0                        3633.0           296425.0   \n6          3.0          4.0                        1620.0           847770.0   \n7          3.0          2.0                        2077.0           646760.0   \n11         0.0          0.0                        1200.0             5328.0   \n14         0.0          0.0                         171.0             6920.0   \n\n    yearbuilt  taxamount    fips  \n4      2005.0    6941.39  6037.0  \n6      2011.0   10244.94  6037.0  \n7      1926.0    7924.68  6037.0  \n11     1972.0      91.60  6037.0  \n14     1973.0     255.17  6037.0  ",
      "text/html": "<div>\n<style scoped>\n    .dataframe tbody tr th:only-of-type {\n        vertical-align: middle;\n    }\n\n    .dataframe tbody tr th {\n        vertical-align: top;\n    }\n\n    .dataframe thead th {\n        text-align: right;\n    }\n</style>\n<table border=\"1\" class=\"dataframe\">\n  <thead>\n    <tr style=\"text-align: right;\">\n      <th></th>\n      <th>bedroomcnt</th>\n      <th>bathroomcnt</th>\n      <th>calculatedfinishedsquarefeet</th>\n      <th>taxvaluedollarcnt</th>\n      <th>yearbuilt</th>\n      <th>taxamount</th>\n      <th>fips</th>\n    </tr>\n  </thead>\n  <tbody>\n    <tr>\n      <th>4</th>\n      <td>4.0</td>\n      <td>2.0</td>\n      <td>3633.0</td>\n      <td>296425.0</td>\n      <td>2005.0</td>\n      <td>6941.39</td>\n      <td>6037.0</td>\n    </tr>\n    <tr>\n      <th>6</th>\n      <td>3.0</td>\n      <td>4.0</td>\n      <td>1620.0</td>\n      <td>847770.0</td>\n      <td>2011.0</td>\n      <td>10244.94</td>\n      <td>6037.0</td>\n    </tr>\n    <tr>\n      <th>7</th>\n      <td>3.0</td>\n      <td>2.0</td>\n      <td>2077.0</td>\n      <td>646760.0</td>\n      <td>1926.0</td>\n      <td>7924.68</td>\n      <td>6037.0</td>\n    </tr>\n    <tr>\n      <th>11</th>\n      <td>0.0</td>\n      <td>0.0</td>\n      <td>1200.0</td>\n      <td>5328.0</td>\n      <td>1972.0</td>\n      <td>91.60</td>\n      <td>6037.0</td>\n    </tr>\n    <tr>\n      <th>14</th>\n      <td>0.0</td>\n      <td>0.0</td>\n      <td>171.0</td>\n      <td>6920.0</td>\n      <td>1973.0</td>\n      <td>255.17</td>\n      <td>6037.0</td>\n    </tr>\n  </tbody>\n</table>\n</div>"
     },
     "execution_count": 9,
     "metadata": {},
     "output_type": "execute_result"
    }
   ],
   "source": [
    "df.head()"
   ],
   "metadata": {
    "collapsed": false,
    "ExecuteTime": {
     "end_time": "2023-12-12T22:39:53.190773Z",
     "start_time": "2023-12-12T22:39:53.182071Z"
    }
   },
   "id": "3b2788a3bf6dbd0d"
  },
  {
   "cell_type": "code",
   "execution_count": 10,
   "outputs": [
    {
     "data": {
      "text/plain": "         bedroomcnt  bathroomcnt  calculatedfinishedsquarefeet  \\\n1209718         4.0          3.0                        2146.0   \n700231          4.0          2.0                        1903.0   \n202767          4.0          2.5                        2096.0   \n1410328         4.0          3.5                        2963.0   \n2007276         3.0          2.0                        1005.0   \n\n         taxvaluedollarcnt  yearbuilt  taxamount    fips  \n1209718           368207.0     1949.0    5052.17  6037.0  \n700231            503000.0     1965.0    5303.50  6111.0  \n202767            304530.0     1967.0    3862.28  6059.0  \n1410328           734000.0     2005.0    7812.64  6111.0  \n2007276           144060.0     1924.0    2497.28  6037.0  ",
      "text/html": "<div>\n<style scoped>\n    .dataframe tbody tr th:only-of-type {\n        vertical-align: middle;\n    }\n\n    .dataframe tbody tr th {\n        vertical-align: top;\n    }\n\n    .dataframe thead th {\n        text-align: right;\n    }\n</style>\n<table border=\"1\" class=\"dataframe\">\n  <thead>\n    <tr style=\"text-align: right;\">\n      <th></th>\n      <th>bedroomcnt</th>\n      <th>bathroomcnt</th>\n      <th>calculatedfinishedsquarefeet</th>\n      <th>taxvaluedollarcnt</th>\n      <th>yearbuilt</th>\n      <th>taxamount</th>\n      <th>fips</th>\n    </tr>\n  </thead>\n  <tbody>\n    <tr>\n      <th>1209718</th>\n      <td>4.0</td>\n      <td>3.0</td>\n      <td>2146.0</td>\n      <td>368207.0</td>\n      <td>1949.0</td>\n      <td>5052.17</td>\n      <td>6037.0</td>\n    </tr>\n    <tr>\n      <th>700231</th>\n      <td>4.0</td>\n      <td>2.0</td>\n      <td>1903.0</td>\n      <td>503000.0</td>\n      <td>1965.0</td>\n      <td>5303.50</td>\n      <td>6111.0</td>\n    </tr>\n    <tr>\n      <th>202767</th>\n      <td>4.0</td>\n      <td>2.5</td>\n      <td>2096.0</td>\n      <td>304530.0</td>\n      <td>1967.0</td>\n      <td>3862.28</td>\n      <td>6059.0</td>\n    </tr>\n    <tr>\n      <th>1410328</th>\n      <td>4.0</td>\n      <td>3.5</td>\n      <td>2963.0</td>\n      <td>734000.0</td>\n      <td>2005.0</td>\n      <td>7812.64</td>\n      <td>6111.0</td>\n    </tr>\n    <tr>\n      <th>2007276</th>\n      <td>3.0</td>\n      <td>2.0</td>\n      <td>1005.0</td>\n      <td>144060.0</td>\n      <td>1924.0</td>\n      <td>2497.28</td>\n      <td>6037.0</td>\n    </tr>\n  </tbody>\n</table>\n</div>"
     },
     "execution_count": 10,
     "metadata": {},
     "output_type": "execute_result"
    }
   ],
   "source": [
    "df.sample(5)"
   ],
   "metadata": {
    "collapsed": false,
    "ExecuteTime": {
     "end_time": "2023-12-12T22:39:53.263775Z",
     "start_time": "2023-12-12T22:39:53.189680Z"
    }
   },
   "id": "aa0c61d41efbbb93"
  },
  {
   "cell_type": "code",
   "execution_count": 11,
   "outputs": [
    {
     "data": {
      "text/plain": "taxvaluedollarcnt\n450000.0    820\n500000.0    774\n400000.0    723\n430000.0    690\n440000.0    683\n           ... \n729523.0      1\n940139.0      1\n545367.0      1\n38804.0       1\n536061.0      1\nName: count, Length: 588178, dtype: int64"
     },
     "execution_count": 11,
     "metadata": {},
     "output_type": "execute_result"
    }
   ],
   "source": [
    "df['taxvaluedollarcnt'].value_counts()"
   ],
   "metadata": {
    "collapsed": false,
    "ExecuteTime": {
     "end_time": "2023-12-12T22:39:53.325213Z",
     "start_time": "2023-12-12T22:39:53.298322Z"
    }
   },
   "id": "19ab69a56fe17240"
  },
  {
   "cell_type": "code",
   "execution_count": 12,
   "outputs": [],
   "source": [
    "# creating list to turn into int\n",
    "col = ['bedroomcnt', 'bathroomcnt', 'calculatedfinishedsquarefeet', 'taxvaluedollarcnt', 'yearbuilt', 'fips']"
   ],
   "metadata": {
    "collapsed": false,
    "ExecuteTime": {
     "end_time": "2023-12-12T22:39:53.325514Z",
     "start_time": "2023-12-12T22:39:53.323740Z"
    }
   },
   "id": "dd4518301c2d10a7"
  },
  {
   "cell_type": "code",
   "execution_count": 13,
   "outputs": [],
   "source": [
    "df[col] = df[col].astype(int)"
   ],
   "metadata": {
    "collapsed": false,
    "ExecuteTime": {
     "end_time": "2023-12-12T22:39:53.368112Z",
     "start_time": "2023-12-12T22:39:53.337052Z"
    }
   },
   "id": "5683b4924c664b4"
  },
  {
   "cell_type": "code",
   "execution_count": 14,
   "outputs": [
    {
     "data": {
      "text/plain": "bedroomcnt                        int64\nbathroomcnt                       int64\ncalculatedfinishedsquarefeet      int64\ntaxvaluedollarcnt                 int64\nyearbuilt                         int64\ntaxamount                       float64\nfips                              int64\ndtype: object"
     },
     "execution_count": 14,
     "metadata": {},
     "output_type": "execute_result"
    }
   ],
   "source": [
    "df.dtypes"
   ],
   "metadata": {
    "collapsed": false,
    "ExecuteTime": {
     "end_time": "2023-12-12T22:39:53.371391Z",
     "start_time": "2023-12-12T22:39:53.368857Z"
    }
   },
   "id": "bea57aae1d7be408"
  },
  {
   "cell_type": "code",
   "execution_count": 18,
   "outputs": [],
   "source": [
    "import wrangle as w"
   ],
   "metadata": {
    "collapsed": false,
    "ExecuteTime": {
     "end_time": "2023-12-12T22:45:06.159843Z",
     "start_time": "2023-12-12T22:45:06.156382Z"
    }
   },
   "id": "43b37e65fba6daec"
  },
  {
   "cell_type": "code",
   "execution_count": 20,
   "outputs": [],
   "source": [
    "train, validate, test, df = w.wrangle_zillow()"
   ],
   "metadata": {
    "collapsed": false,
    "ExecuteTime": {
     "end_time": "2023-12-12T22:45:39.413440Z",
     "start_time": "2023-12-12T22:45:27.767772Z"
    }
   },
   "id": "31a836c5f93e8ae8"
  },
  {
   "cell_type": "code",
   "execution_count": 21,
   "outputs": [
    {
     "data": {
      "text/plain": "((2140235, 7), (1284141, 7), (428047, 7), (428047, 7))"
     },
     "execution_count": 21,
     "metadata": {},
     "output_type": "execute_result"
    }
   ],
   "source": [
    "df.shape, train.shape, validate.shape, test.shape"
   ],
   "metadata": {
    "collapsed": false,
    "ExecuteTime": {
     "end_time": "2023-12-12T22:46:07.427460Z",
     "start_time": "2023-12-12T22:46:07.424049Z"
    }
   },
   "id": "fda6b23344ab2ad9"
  },
  {
   "cell_type": "code",
   "execution_count": null,
   "outputs": [],
   "source": [],
   "metadata": {
    "collapsed": false
   },
   "id": "9fcac5fc1bc6791b"
  }
 ],
 "metadata": {
  "kernelspec": {
   "display_name": "Python 3",
   "language": "python",
   "name": "python3"
  },
  "language_info": {
   "codemirror_mode": {
    "name": "ipython",
    "version": 2
   },
   "file_extension": ".py",
   "mimetype": "text/x-python",
   "name": "python",
   "nbconvert_exporter": "python",
   "pygments_lexer": "ipython2",
   "version": "2.7.6"
  }
 },
 "nbformat": 4,
 "nbformat_minor": 5
}
